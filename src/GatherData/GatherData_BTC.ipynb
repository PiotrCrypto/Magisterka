{
 "cells": [
  {
   "cell_type": "code",
   "execution_count": 1,
   "metadata": {},
   "outputs": [],
   "source": [
    "import pandas as pd\n",
    "from binance.client import Client\n",
    "from binance_keys import api_key, secret_key\n",
    "import time\n",
    "from datetime import datetime\n",
    "import plotly.graph_objects as go"
   ]
  },
  {
   "cell_type": "code",
   "execution_count": 2,
   "id": "82c25695",
   "metadata": {},
   "outputs": [],
   "source": [
    "client = Client(api_key, secret_key)"
   ]
  },
  {
   "cell_type": "code",
   "execution_count": 3,
   "id": "002e4d3b",
   "metadata": {},
   "outputs": [
    {
     "name": "stdout",
     "output_type": "stream",
     "text": [
      "gathering BTC...\n"
     ]
    }
   ],
   "source": [
    "coins = ['BTC']\n",
    "\n",
    "merge = False\n",
    "for coin in coins:\n",
    "    print(f'gathering {coin}...')\n",
    "    start_str = 'Jan 01, 2023'\n",
    "    end_str = 'Dec 31, 2023'\n",
    "\n",
    "    klines = client.get_historical_klines(symbol=f'{coin}USDT', \n",
    "                                          interval=client.KLINE_INTERVAL_1DAY, \n",
    "                                          start_str=start_str,\n",
    "                                          end_str=end_str)\n",
    "    cols = ['OpenTime',\n",
    "            f'{coin}-USD_Open',\n",
    "            f'{coin}-USD_High',\n",
    "            f'{coin}-USD_Low',\n",
    "            f'{coin}-USD_Close',\n",
    "            f'{coin}-USD_volume',\n",
    "            'CloseTime',\n",
    "            f'{coin}-QuoteAssetVolume',\n",
    "            f'{coin}-NumberOfTrades',\n",
    "            f'{coin}-TBBAV',\n",
    "            f'{coin}-TBQAV',\n",
    "            f'{coin}-ignore']\n",
    "\n",
    "    coin_df = pd.DataFrame(klines,columns=cols)\n",
    "    \n",
    "    if merge == True:\n",
    "        all_coins_df = pd.merge(coin_df,all_coins_df,how='inner',on=['OpenTime','CloseTime'])\n",
    "    else:\n",
    "        all_coins_df = coin_df\n",
    "        merge = True\n",
    "        \n",
    "    time.sleep(60)"
   ]
  },
  {
   "cell_type": "code",
   "execution_count": 4,
   "id": "47645a6f",
   "metadata": {},
   "outputs": [],
   "source": [
    "# converting open and close time \n",
    "all_coins_df['OpenTime'] = [datetime.fromtimestamp(ts / 1000) for ts in all_coins_df['OpenTime']]\n",
    "all_coins_df['CloseTime'] = [datetime.fromtimestamp(ts / 1000) for ts in all_coins_df['CloseTime']]"
   ]
  },
  {
   "cell_type": "code",
   "execution_count": 5,
   "id": "e1cf9df4",
   "metadata": {},
   "outputs": [],
   "source": [
    "#converting prize to a float\n",
    "for col in all_coins_df.columns:\n",
    "    if not 'Time' in col:\n",
    "        all_coins_df[col] = all_coins_df[col].astype(float)"
   ]
  },
  {
   "cell_type": "code",
   "execution_count": 6,
   "id": "1413a85b",
   "metadata": {},
   "outputs": [
    {
     "name": "stdout",
     "output_type": "stream",
     "text": [
      "DONE\n"
     ]
    }
   ],
   "source": [
    "# fig = go.Figure(data=[go.Candlestick(x=all_coins_df['OpenTime'],\n",
    "#                 open=all_coins_df['BTC-USD_Open'],\n",
    "#                 high=all_coins_df['BTC-USD_High'],\n",
    "#                 low=all_coins_df['BTC-USD_Low'],\n",
    "#                 close=all_coins_df['BTC-USD_Close'])])\n",
    "# fig.update_layout(xaxis_rangeslider_visible=False)\n",
    "# fig.show()\n",
    "\n",
    "all_coins_df.to_csv(f'..//data//BTC//Jan_1_2023-Dec_31_2023_1DAY.csv',index=False)\n",
    "print('DONE')"
   ]
  }
 ],
 "metadata": {
  "kernelspec": {
   "display_name": "Python 3 (ipykernel)",
   "language": "python",
   "name": "python3"
  },
  "language_info": {
   "codemirror_mode": {
    "name": "ipython",
    "version": 3
   },
   "file_extension": ".py",
   "mimetype": "text/x-python",
   "name": "python",
   "nbconvert_exporter": "python",
   "pygments_lexer": "ipython3",
   "version": "3.10.9"
  }
 },
 "nbformat": 4,
 "nbformat_minor": 5
}
