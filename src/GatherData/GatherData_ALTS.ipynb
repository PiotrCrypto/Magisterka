{
 "cells": [
  {
   "cell_type": "code",
   "execution_count": 1,
   "id": "adb952fd",
   "metadata": {},
   "outputs": [],
   "source": [
    "import pandas as pd\n",
    "from binance.client import Client\n",
    "from binance_keys import api_key, secret_key\n",
    "import time\n",
    "from datetime import datetime\n",
    "import plotly.graph_objects as go"
   ]
  },
  {
   "cell_type": "code",
   "execution_count": 2,
   "id": "002e4d3b",
   "metadata": {},
   "outputs": [
    {
     "name": "stdout",
     "output_type": "stream",
     "text": [
      "gathering ETH...\n",
      "DONE\n",
      "gathering BNB...\n",
      "DONE\n",
      "gathering XRP...\n",
      "DONE\n",
      "gathering ADA...\n",
      "DONE\n",
      "gathering DOGE...\n",
      "DONE\n",
      "gathering SOL...\n",
      "DONE\n",
      "gathering TRX...\n",
      "DONE\n",
      "gathering DOT...\n",
      "DONE\n",
      "gathering MATIC...\n",
      "DONE\n",
      "gathering LTC...\n",
      "DONE\n"
     ]
    }
   ],
   "source": [
    "client = Client(api_key, secret_key)\n",
    "\n",
    "coins = ['ETH','BNB','XRP','ADA','DOGE','SOL','TRX','DOT','MATIC','LTC']\n",
    "\n",
    "\n",
    "merge = False\n",
    "for coin in coins:\n",
    "    print(f'gathering {coin}...')\n",
    "    start_str = 'Jan 1, 2022'\n",
    "    end_str = 'Dec 30, 2022'\n",
    "\n",
    "    klines = client.get_historical_klines(symbol=f'{coin}USDT', interval=client.KLINE_INTERVAL_1DAY, start_str=start_str, end_str=end_str)\n",
    "    cols = ['OpenTime',\n",
    "            f'{coin}-USD_Open',\n",
    "            f'{coin}-USD_High',\n",
    "            f'{coin}-USD_Low',\n",
    "            f'{coin}-USD_Close',\n",
    "            f'{coin}-USD_volume',\n",
    "            'CloseTime',\n",
    "            f'{coin}-QuoteAssetVolume',\n",
    "            f'{coin}-NumberOfTrades',\n",
    "            f'{coin}-TBBAV',\n",
    "            f'{coin}-TBQAV',\n",
    "            f'{coin}-ignore']\n",
    "\n",
    "    coin_df = pd.DataFrame(klines,columns=cols)\n",
    "    \n",
    "    coin_df['OpenTime'] = [datetime.fromtimestamp(ts / 1000) for ts in coin_df['OpenTime']]\n",
    "    coin_df['CloseTime'] = [datetime.fromtimestamp(ts / 1000) for ts in coin_df['CloseTime']]\n",
    "    \n",
    "    for col in coin_df.columns:\n",
    "        if not 'Time' in col:\n",
    "            coin_df[col] = coin_df[col].astype(float)\n",
    "    \n",
    "    coin_df.to_csv(f'..//data//ALTS//{coin}_Jan1_2022-Dec_31_2022_1D.csv')\n",
    "    print('DONE')"
   ]
  }
 ],
 "metadata": {
  "kernelspec": {
   "display_name": "Python 3 (ipykernel)",
   "language": "python",
   "name": "python3"
  },
  "language_info": {
   "codemirror_mode": {
    "name": "ipython",
    "version": 3
   },
   "file_extension": ".py",
   "mimetype": "text/x-python",
   "name": "python",
   "nbconvert_exporter": "python",
   "pygments_lexer": "ipython3",
   "version": "3.10.9"
  }
 },
 "nbformat": 4,
 "nbformat_minor": 5
}
