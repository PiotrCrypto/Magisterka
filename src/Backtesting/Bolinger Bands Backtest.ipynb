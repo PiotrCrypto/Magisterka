{
 "cells": [
  {
   "cell_type": "code",
   "execution_count": 1,
   "id": "aa7886bf",
   "metadata": {},
   "outputs": [],
   "source": [
    "import pandas as pd\n",
    "from plot_utils import plot_results"
   ]
  },
  {
   "cell_type": "code",
   "execution_count": 2,
   "id": "49e374c6",
   "metadata": {},
   "outputs": [],
   "source": [
    "df = pd.read_csv('Jan_1_2020-Dec_31_2020_15MIN.csv')"
   ]
  },
  {
   "cell_type": "code",
   "execution_count": 3,
   "id": "4095f3ab",
   "metadata": {},
   "outputs": [],
   "source": [
    "def sma(data, window):\n",
    "    return(data.rolling(window = window).mean())"
   ]
  },
  {
   "cell_type": "code",
   "execution_count": 4,
   "id": "ba709c10",
   "metadata": {},
   "outputs": [],
   "source": [
    "def sma(data, window):\n",
    "    return(data.rolling(window = window).mean())\n",
    "\n",
    "def bollinger_band(data, sma, window, nstd):\n",
    "    std = data.rolling(window = window).std()\n",
    "    upper_band = sma + std * nstd\n",
    "    lower_band = sma - std * nstd\n",
    "    return upper_band, lower_band"
   ]
  },
  {
   "cell_type": "code",
   "execution_count": 5,
   "id": "dd09b68f",
   "metadata": {},
   "outputs": [],
   "source": [
    "symbols = ['BTC']"
   ]
  },
  {
   "cell_type": "code",
   "execution_count": 6,
   "id": "a40c0de1",
   "metadata": {},
   "outputs": [],
   "source": [
    "nstd = 9\n",
    "\n",
    "for symbol in symbols:\n",
    "    df[f'{symbol}_sma'] = sma(df[f'{symbol}-USD_Open'], 20)\n",
    "    df[f'{symbol}_upper_band'], df[f'{symbol}_lower_band'] = bollinger_band(df[f'{symbol}-USD_Open'],  df[f'{symbol}_sma'], 20, nstd)"
   ]
  },
  {
   "cell_type": "code",
   "execution_count": 7,
   "id": "2b9a0a92",
   "metadata": {},
   "outputs": [],
   "source": [
    "df.dropna(inplace = True)"
   ]
  },
  {
   "cell_type": "code",
   "execution_count": 8,
   "id": "bfe63a11",
   "metadata": {},
   "outputs": [],
   "source": [
    "class TradingEnv:\n",
    "    def __init__(self, balance_amount, balance_unit, trading_fee_multiplier):\n",
    "        self.balance_amount = balance_amount\n",
    "        self.balance_unit = balance_unit\n",
    "        self.buys = []\n",
    "        self.sells = []\n",
    "        self.trading_fee_multiplier = trading_fee_multiplier\n",
    "        \n",
    "    def buy(self, symbol, buy_price, time):\n",
    "        self.balance_amount = (self.balance_amount / buy_price) * self.trading_fee_multiplier\n",
    "        self.balance_unit = symbol\n",
    "        self.buys.append([symbol, time, buy_price])\n",
    "        \n",
    "    def sell(self, sell_price, time):\n",
    "        self.balance_amount = self.balance_amount * sell_price * self.trading_fee_multiplier\n",
    "        self.sells.append( [self.balance_unit, time, sell_price] )\n",
    "        self.balance_unit = 'USDT'"
   ]
  },
  {
   "cell_type": "code",
   "execution_count": 9,
   "id": "ec48c998",
   "metadata": {},
   "outputs": [],
   "source": [
    "# VIP level 0, paying fees with BNB = 0.075%\n",
    "env = TradingEnv(balance_amount = 10000, balance_unit = 'USDT', trading_fee_multiplier = 0.99925)"
   ]
  },
  {
   "cell_type": "code",
   "execution_count": 10,
   "id": "56b245ee",
   "metadata": {},
   "outputs": [
    {
     "name": "stdout",
     "output_type": "stream",
     "text": [
      "starting balance: 10000\n",
      "num buys: 24\n",
      "num sells: 24\n",
      "ending balance: 16803.41413402686 USDT\n"
     ]
    }
   ],
   "source": [
    "print(f'starting balance: {env.balance_amount}')\n",
    "for i in range(len(df)):\n",
    "    if env.balance_unit == 'USDT':\n",
    "        for symbol in symbols:\n",
    "            if df[f'{symbol}-USD_Low'].iloc[i] < df[f'{symbol}_lower_band'].iloc[i]: #buy signal\n",
    "                env.buy(symbol, df[f'{symbol}-USD_Close'].iloc[i], df['OpenTime'].iloc[i])\n",
    "                break\n",
    "                \n",
    "    if env.balance_unit != 'USDT':\n",
    "        if df[f'{env.balance_unit}-USD_High'].iloc[i] > df[f'{env.balance_unit}_upper_band'].iloc[i]: #sell signal\n",
    "            env.sell(df[f'{env.balance_unit}-USD_Close'].iloc[i], df['OpenTime'].iloc[i])\n",
    "\n",
    "if env.balance_unit != 'USDT':\n",
    "    env.sell(df[f'{env.balance_unit}-USD_Close'].iloc[-1], df['OpenTime'].iloc[-1])\n",
    "print(f'num buys: {len(env.buys)}')\n",
    "print(f'num sells: {len(env.sells)}')\n",
    "print(f'ending balance: {env.balance_amount} {env.balance_unit}')"
   ]
  },
  {
   "cell_type": "code",
   "execution_count": 11,
   "id": "8c80c4f0",
   "metadata": {},
   "outputs": [],
   "source": [
    "# plot_results(df, 'BTC', env.buys, env.sells)"
   ]
  }
 ],
 "metadata": {
  "kernelspec": {
   "display_name": "Python 3 (ipykernel)",
   "language": "python",
   "name": "python3"
  },
  "language_info": {
   "codemirror_mode": {
    "name": "ipython",
    "version": 3
   },
   "file_extension": ".py",
   "mimetype": "text/x-python",
   "name": "python",
   "nbconvert_exporter": "python",
   "pygments_lexer": "ipython3",
   "version": "3.10.9"
  }
 },
 "nbformat": 4,
 "nbformat_minor": 5
}
